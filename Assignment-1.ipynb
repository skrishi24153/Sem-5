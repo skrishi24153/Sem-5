{
 "cells": [
  {
   "cell_type": "code",
   "execution_count": 38,
   "id": "fa941018-a0b4-4b66-a613-591e5cb89c7c",
   "metadata": {},
   "outputs": [],
   "source": [
    "def name(hi):\n",
    "    hi(1,2,3,4,4,4,5,6)\n",
    "    for hi in range(hi,hi+1):\n",
    "        if hi !=  hi:\n",
    "            print(hi)\n",
    "        else:\n",
    "            print(-hi)\n",
    "        end\n",
    "    "
   ]
  },
  {
   "cell_type": "code",
   "execution_count": 27,
   "id": "dc0858bd-6edb-4bc0-96df-6f6a4eaeba7f",
   "metadata": {},
   "outputs": [
    {
     "data": {
      "text/plain": [
       "<function __main__.function_name(hi, python)>"
      ]
     },
     "execution_count": 27,
     "metadata": {},
     "output_type": "execute_result"
    }
   ],
   "source": [
    "function_name"
   ]
  },
  {
   "cell_type": "code",
   "execution_count": 37,
   "id": "4bcc4809-7b7e-423d-b8a0-af9568d5149b",
   "metadata": {},
   "outputs": [
    {
     "data": {
      "text/plain": [
       "<function __main__.function_name(hi)>"
      ]
     },
     "execution_count": 37,
     "metadata": {},
     "output_type": "execute_result"
    }
   ],
   "source": [
    "function_name"
   ]
  },
  {
   "cell_type": "code",
   "execution_count": 39,
   "id": "a0fe24f6-8e32-4647-b2da-c8b726805729",
   "metadata": {},
   "outputs": [
    {
     "data": {
      "text/plain": [
       "<function __main__.name(hi)>"
      ]
     },
     "execution_count": 39,
     "metadata": {},
     "output_type": "execute_result"
    }
   ],
   "source": [
    "name"
   ]
  },
  {
   "cell_type": "code",
   "execution_count": 44,
   "id": "dd98bd93-e045-47b5-93a7-68a727b6916b",
   "metadata": {},
   "outputs": [
    {
     "name": "stdout",
     "output_type": "stream",
     "text": [
      "original list: [1, 3, 4, 5, 55, 55, 6, 50]\n",
      "removed list: [1, 3, 4, 5, 55, 6, 50]\n"
     ]
    }
   ],
   "source": [
    "def delete(list):\n",
    "    empty_list=[]\n",
    "    for i in list:\n",
    "        if i not in empty_list:\n",
    "            empty_list.append(i)\n",
    "    return empty_list\n",
    "list=[1,3,4,5,55,55,6,50]\n",
    "empty_list= delete(list)\n",
    "print(\"original list:\", list)\n",
    "print(\"removed list:\", empty_list)"
   ]
  },
  {
   "cell_type": "code",
   "execution_count": 41,
   "id": "8a610c65-da60-4472-b17f-42ac9821db64",
   "metadata": {},
   "outputs": [],
   "source": []
  },
  {
   "cell_type": "code",
   "execution_count": 42,
   "id": "31e42b3e-e60c-413e-8f4b-64e913834192",
   "metadata": {},
   "outputs": [
    {
     "ename": "SyntaxError",
     "evalue": "invalid syntax (1102136943.py, line 1)",
     "output_type": "error",
     "traceback": [
      "\u001b[1;36m  Cell \u001b[1;32mIn[42], line 1\u001b[1;36m\u001b[0m\n\u001b[1;33m    def\u001b[0m\n\u001b[1;37m       ^\u001b[0m\n\u001b[1;31mSyntaxError\u001b[0m\u001b[1;31m:\u001b[0m invalid syntax\n"
     ]
    }
   ],
   "source": []
  },
  {
   "cell_type": "code",
   "execution_count": null,
   "id": "51cf6256-530c-4ef0-84d7-d1551a034ab1",
   "metadata": {},
   "outputs": [],
   "source": []
  }
 ],
 "metadata": {
  "kernelspec": {
   "display_name": "Python 3 (ipykernel)",
   "language": "python",
   "name": "python3"
  },
  "language_info": {
   "codemirror_mode": {
    "name": "ipython",
    "version": 3
   },
   "file_extension": ".py",
   "mimetype": "text/x-python",
   "name": "python",
   "nbconvert_exporter": "python",
   "pygments_lexer": "ipython3",
   "version": "3.9.19"
  }
 },
 "nbformat": 4,
 "nbformat_minor": 5
}
